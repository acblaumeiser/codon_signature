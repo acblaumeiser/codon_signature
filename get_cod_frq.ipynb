{
 "cells": [
  {
   "cell_type": "code",
   "execution_count": 7,
   "metadata": {},
   "outputs": [],
   "source": [
    "import pandas as pd\n",
    "import numpy as np\n"
   ]
  },
  {
   "cell_type": "code",
   "execution_count": 8,
   "metadata": {},
   "outputs": [],
   "source": [
    "args_input='o576245-Refseq_species.tsv'\n",
    "args_id=521"
   ]
  },
  {
   "cell_type": "code",
   "execution_count": 9,
   "metadata": {},
   "outputs": [
    {
     "name": "stdout",
     "output_type": "stream",
     "text": [
      "                Assembly\n",
      "Taxid                   \n",
      "2161     GCF_002287175.1\n",
      "1204725  GCF_000302455.1\n",
      "2162     GCF_000762265.1\n",
      "2162     GCF_000953115.1\n",
      "2162     GCF_001458655.1\n",
      "...                  ...\n",
      "1923457              NaN\n",
      "1923492              NaN\n",
      "1922934              NaN\n",
      "1922884              NaN\n",
      "1608101              NaN\n",
      "\n",
      "[152902 rows x 1 columns]\n"
     ]
    }
   ],
   "source": [
    "verbose=False\n",
    "\n",
    "genecode=dict()\n",
    "genecode[\"A\"] = [\"GCT\",\"GCC\",\"GCA\",\"GCG\"]\n",
    "genecode[\"L\"] = [\"TTA\",\"TTG\",\"CTT\",\"CTC\",\"CTA\",\"CTG\"]\n",
    "genecode[\"R\"] = [\"CGT\",\"CGC\",\"CGA\",\"CGG\",\"AGA\",\"AGG\"]\n",
    "genecode[\"K\"] = [\"AAA\",\"AAG\"]\n",
    "genecode[\"N\"] = [\"AAT\",\"AAC\"]\n",
    "genecode[\"M\"] = [\"ATG\"]\n",
    "genecode[\"D\"] = [\"GAT\",\"GAC\"]\n",
    "genecode[\"F\"] = [\"TTT\",\"TTC\"]\n",
    "genecode[\"C\"] = [\"TGT\",\"TGC\"]\n",
    "genecode[\"P\"] = [\"CCT\",\"CCC\",\"CCA\",\"CCG\"]\n",
    "genecode[\"Q\"] = [\"CAA\",\"CAG\"]\n",
    "genecode[\"S\"] = [\"TCT\",\"TCC\",\"TCA\",\"TCG\",\"AGT\",\"AGC\"]\n",
    "genecode[\"E\"] = [\"GAA\",\"GAG\"]\n",
    "genecode[\"T\"] = [\"ACT\",\"ACC\",\"ACA\",\"ACG\"]\n",
    "genecode[\"G\"] = [\"GGT\",\"GGC\",\"GGA\",\"GGG\"]\n",
    "genecode[\"W\"] = [\"TGG\"]\n",
    "genecode[\"H\"] = [\"CAT\",\"CAC\"]\n",
    "genecode[\"Y\"] = [\"TAT\",\"TAC\"]\n",
    "genecode[\"I\"] = [\"ATT\",\"ATC\",\"ATA\"]\n",
    "genecode[\"V\"] = [\"GTT\",\"GTC\",\"GTA\",\"GTG\"]\n",
    "genecode[\"Z\"] = [\"TAA\",\"TGA\",\"TAG\"]\n",
    "\n",
    "# Ideaa Fabio: invece di fare un ciclo for, carica il file in un dataframe, prendi tutte i nomi delle colonne e elimina quelle che non interessano\"\n",
    "# Create a list of variable names to be kept\n",
    "to_keep=[\"Species\",\"Assembly\"]\n",
    "# Append to the 'to_keep' list the codon columns from the input table\n",
    "# that corresponds to each aminoacid in the genecode dictionary\n",
    "for AA in genecode:\n",
    "    for trip in genecode[AA]:\n",
    "        to_keep.append(trip)\n",
    "if verbose==True:\n",
    "    print(\"Line to to_keep\\n\",to_keep,\"\\n Done\")\n",
    "    \n",
    "data=pd.read_csv(args_input, sep=\"\\t\", index_col=False, low_memory=False)\n",
    "data=data.set_index(\"Taxid\")\n",
    "# Create a new dataframe RefSeq tax ID,Species,Assembly and all the codons from genecode dictionary as columns\n",
    "# that is has only the rows where RefSeq is equal to the input Tax Id\n",
    "one_id_data=(data.loc[args_id,to_keep])\n",
    "if verbose==True:\n",
    "    print(\"DataFrame columns\\n\",one_id_data,\"\\n Done\")\n",
    "# data.index.names = [None]\n",
    "ratio_all=pd.DataFrame(data[\"Assembly\"],index=data.index)\n",
    "print(ratio_all)\n",
    "#table with all triplets frequencies\n",
    "for AA in genecode:\n",
    "    sub_columns=[]#\"Assembly\"\n",
    "    sub_columns.extend(genecode[AA])\n",
    "    if verbose==True:\n",
    "        print(sub_columns,\"\\n Done\")\n",
    "    sub_data=data.loc[:,sub_columns]\n",
    "    if verbose==True:\n",
    "        print(\"Subset of codon columns for \",AA,\":\\n\",sub_data, \"\\n Done\")\n",
    "    if verbose==True:\n",
    "        print(\"Sum over rows of subset codon column \\n\",sub_data.sum(axis=1), \"\\n Done\")\n",
    "    ratio_subdata=sub_data.div(sub_data.sum(axis=1), axis=0)\n",
    "    if verbose==True:\n",
    "        print(\"Relative frequency of codon usage for\",AA,\":\\n\", ratio_subdata,\"\\n Done\")\n",
    "    ratio_all=pd.concat([ratio_all,ratio_subdata])\n",
    "#to do explicitely declares which columns has to be rounded\n",
    "ratio_all=ratio_all.round(2)\n",
    "ratio_all.to_csv(\"test_cod_freq.tsv\", sep='\\t')\n"
   ]
  },
  {
   "cell_type": "code",
   "execution_count": null,
   "metadata": {},
   "outputs": [],
   "source": []
  }
 ],
 "metadata": {
  "kernelspec": {
   "display_name": "Python 3",
   "language": "python",
   "name": "python3"
  },
  "language_info": {
   "codemirror_mode": {
    "name": "ipython",
    "version": 3
   },
   "file_extension": ".py",
   "mimetype": "text/x-python",
   "name": "python",
   "nbconvert_exporter": "python",
   "pygments_lexer": "ipython3",
   "version": "3.7.3"
  }
 },
 "nbformat": 4,
 "nbformat_minor": 2
}
